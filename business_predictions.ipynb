{
 "cells": [
  {
   "cell_type": "markdown",
   "metadata": {},
   "source": [
    "# Predicting open loans"
   ]
  },
  {
   "cell_type": "code",
   "execution_count": 49,
   "metadata": {},
   "outputs": [],
   "source": [
    "import joblib\n",
    "import json\n",
    "import pandas as pd\n",
    "import loan_processing as lp\n",
    "import numpy as np\n",
    "import matplotlib.pyplot as plt\n",
    "import seaborn as sns\n",
    "import importlib as imp"
   ]
  },
  {
   "cell_type": "markdown",
   "metadata": {},
   "source": [
    "## Business Case Assumptions\n"
   ]
  },
  {
   "cell_type": "markdown",
   "metadata": {},
   "source": [
    "### Basic Idea\n",
    "\n",
    "The basic assumption is that we are able to buy loans selectively from the pool of open loans. We can buy the loans at a discount and then collect the full amount from the borrower. \n",
    "We will set the average discount price to account for the risk of default, we estimate with the help of the model.\n",
    "Since the positive class in model training is the default class, we will use the probability of default as a measure of risk.\n",
    "\n",
    "The interest of the loan is already implicitly included in the monthly installments. After we buy the loan, the assumption is that the borrower will continue to pay the monthly installments, but they will be paid to us not (the new owners of the debt) and not to the original lender.\n",
    "\n",
    "* `Buy Price` = Monthly nstallments * Time-to-maturity of the loan / (1 - Discount rate)\n",
    "* `Expected Profit per loan` = Buy Price - Monthly Installments * Time-to-maturity of the loan \n",
    "* `Expected Total Profit`  = Sum of Expected Profits per loan * (1 - False negative rate)\n",
    "\n",
    "\n",
    "## Prequisites\n",
    "\n",
    "* Make current date flexible\n",
    "* Determine the time-to-maturity\n",
    "* Take interest rate from dataset and multiply it with the loan amount to get the interest amount\n",
    "* Calculate the total expected profit\n",
    "\n",
    "# Scenarios\n",
    "\n",
    "* `True Positive` - In this case the model would suggest a default, we would **not buy the loan** and the borrower defaults\n",
    "* `False Positive` - Model suggests a default, we **do not buy the loan**, but the borrower **does not default**\n",
    "* `True Negative` - Model suggests the loan will be fully paid, we **buy the loan** and the borrower **does not default** = **Profit**\n",
    "* `False Negative` - Model suggests the loan will be fully paid, we **buy the loan** and the borrower **defaults** resulting in a **full loss of the price we paid for the loan**"
   ]
  },
  {
   "cell_type": "code",
   "execution_count": 50,
   "metadata": {},
   "outputs": [
    {
     "name": "stdout",
     "output_type": "stream",
     "text": [
      "Target columns created: active_loan, default\n",
      "2014-10-01 00:00:00\n",
      "2018-12-01 00:00:00\n"
     ]
    }
   ],
   "source": [
    "# Load active loans raw data\n",
    "\n",
    "active_loans = pd.read_parquet('DATA/active_loans.parquet')\n",
    "\n",
    "\n",
    "# Process date columns\n",
    "date_cols = ['earliest_cr_line', 'last_credit_pull_d']\n",
    "active_loans = lp.process_month_date(active_loans, date_cols)\n",
    "active_loans = lp.process_year_month_date(active_loans, ['issue_d'])\n",
    "active_loans = lp.process_percentages(active_loans, ['int_rate', 'revol_util'])\n",
    "active_loans = lp.create_fico_features(active_loans)\n",
    "active_loans = lp.create_target_columns(active_loans, 'loan_status', drop_target= True)\n",
    "active_loans = lp.process_term(active_loans, 'term')\n",
    "\n",
    "print(active_loans['issue_d'].min())\n",
    "print(active_loans['issue_d'].max())"
   ]
  },
  {
   "cell_type": "code",
   "execution_count": 51,
   "metadata": {},
   "outputs": [],
   "source": [
    "time_of_invest = '2019-06-01'  # Set the time of investment\n",
    "time_of_invest = pd.to_datetime(time_of_invest)  # Convert to datetime\n",
    "\n",
    "info_cols = [\n",
    "    'installment',\n",
    "    'out_prncp',\n",
    "    'int_rate',\n",
    "    'funded_amnt',\n",
    "    'term',\n",
    "    'grade',\n",
    "    'sub_grade',\n",
    "    'home_ownership',\n",
    "    'avg_fico_current',\n",
    "    'fico_downgrade',\n",
    "    'issue_d',\n",
    "    'active_loan'\n",
    "]\n",
    "\n",
    "active_loans = active_loans[active_loans['out_prncp'] > active_loans['installment']]\n",
    "\n",
    "active_info = active_loans[info_cols].copy()  # Create a copy of the columns to avoid direct modification\n",
    "\n",
    "# Process and calculate required columns\n",
    "# Using 'active_loans' instead of 'active_info' for the calculations\n",
    "active_info = lp.calculate_loan_end_date(active_info, 'issue_d', 'term')\n",
    "active_info = lp.calculate_time_to_maturity(active_info, 'loan_end_date', time_of_invest)"
   ]
  },
  {
   "cell_type": "markdown",
   "metadata": {},
   "source": [
    "## Explore open loan data"
   ]
  },
  {
   "cell_type": "markdown",
   "metadata": {},
   "source": [
    "### Prepare columns"
   ]
  },
  {
   "cell_type": "code",
   "execution_count": 62,
   "metadata": {},
   "outputs": [],
   "source": [
    "# Load model and preprocessor\n",
    "model_size = 'full'\n",
    "model_date = '20250317'\n",
    "model_version = '213829'\n",
    "\n",
    "\n",
    "dropped_file = f'OUTPUT/Processing/dropped_columns_{model_date}_{model_version}.json'\n",
    "model = joblib.load(f'OUTPUT/Models/best_xgboost_{model_size}_{model_date}_{model_version}.pkl')\n",
    "preprocessor = joblib.load(f'OUTPUT/Processing/preprocessing_pipeline_{model_date}_{model_version}.pkl')\n",
    "\n",
    "# Drop columns\n",
    "with open(dropped_file, 'r') as file:\n",
    "    drop_cols = json.load(file)\n",
    "\n",
    "lp.drop_columns(active_loans, drop_cols, verbose = False)\n",
    "\n",
    "y = active_loans['default']\n",
    "X = active_loans.drop('default', axis=1).copy()\n",
    "\n",
    "# Identify object columns that might contain categorical data\n",
    "categorical_cols = X.select_dtypes(include=['object']).columns\n",
    "for col in categorical_cols:\n",
    "    X[col] = X[col].fillna('Unknown')\n",
    "\n",
    "X.describe().T\n",
    "\n",
    "len(X.columns)\n",
    "\n",
    "# Preprocess data\n",
    "X_processed = preprocessor.transform(X)"
   ]
  },
  {
   "cell_type": "markdown",
   "metadata": {},
   "source": [
    "## Join all results"
   ]
  },
  {
   "cell_type": "code",
   "execution_count": 63,
   "metadata": {},
   "outputs": [],
   "source": [
    "# Make the predictions\n",
    "\n",
    "y_pred = model.predict_proba(X_processed)[:, 1]\n",
    "# Merge predictions with original data\n",
    "adf = pd.concat([active_info, pd.Series(y_pred, name='default_proba')], axis=1)"
   ]
  },
  {
   "cell_type": "markdown",
   "metadata": {},
   "source": [
    "### Exploring the results"
   ]
  },
  {
   "cell_type": "code",
   "execution_count": 64,
   "metadata": {},
   "outputs": [
    {
     "data": {
      "text/plain": [
       "0.0"
      ]
     },
     "execution_count": 64,
     "metadata": {},
     "output_type": "execute_result"
    }
   ],
   "source": [
    "adf.sort_values(['time_to_maturity'], ascending=True).head(10)\n",
    "\n",
    "problems = adf[adf['installment'] > adf['out_prncp']]\n",
    "len(problems) / len(adf)"
   ]
  },
  {
   "cell_type": "code",
   "execution_count": 65,
   "metadata": {},
   "outputs": [
    {
     "data": {
      "image/png": "[encoded data removed]",
      "text/plain": [
       "<Figure size 1600x600 with 2 Axes>"
      ]
     },
     "metadata": {},
     "output_type": "display_data"
    },
    {
     "data": {
      "text/plain": [
       "<Figure size 640x480 with 0 Axes>"
      ]
     },
     "metadata": {},
     "output_type": "display_data"
    },
    {
     "data": {
      "image/png": "[encoded data removed]",
      "text/plain": [
       "<Figure size 1600x600 with 2 Axes>"
      ]
     },
     "metadata": {},
     "output_type": "display_data"
    },
    {
     "data": {
      "text/plain": [
       "<Figure size 640x480 with 0 Axes>"
      ]
     },
     "metadata": {},
     "output_type": "display_data"
    }
   ],
   "source": [
    "# Show default probabilities and monthly installments by grade\n",
    "\n",
    "grade_order = ['A', 'B', 'C', 'D', 'E', 'F', 'G']\n",
    "subgrade_order = ['G5', 'G4', 'G3', 'G2', 'G1', 'F5', 'F4', 'F3', 'F2', 'F1', 'E5', 'E4', 'E3', 'E2', 'E1', 'D5', 'D4', 'D3', 'D2', 'D1', 'C5', 'C4', 'C3', 'C2', 'C1', 'B5', 'B4', 'B3', 'B2', 'B1', 'A5', 'A4', 'A3', 'A2', 'A1']\n",
    "subgrade_order = subgrade_order[::-1]\n",
    "col = {'A': '#577590', 'B': '#43aa8b', 'C': '#90be6d', 'D': '#f9c74f', 'E': '#f8961e', 'F': '#f3722c', 'G': '#f94144', 'None' : 'grey'}\n",
    "\n",
    "fig, (installment, interest) = plt.subplots(1, 2, figsize=(16, 6))\n",
    "installment.set_title('Monthly Installment by Grade')\n",
    "installment = sns.boxplot(x='grade', y='installment', data=adf, order=grade_order, ax=installment, showfliers=False, hue='grade',palette=col)\n",
    "installment.set_xlabel('Grade')\n",
    "installment.set_ylabel('Monthly Installment')\n",
    "installment.legend_.remove()\n",
    "interest.set_title('Interest Rate by Grade')\n",
    "interest = sns.boxplot(x='grade', y='int_rate', data=adf, order=grade_order, ax=interest, showfliers=False, hue='grade',palette=col)\n",
    "interest.set_xlabel('Grade')\n",
    "interest.set_ylabel('Interest Rate')\n",
    "interest.legend_.remove()\n",
    "plt.show()\n",
    "plt.savefig('OUTPUT/Plots/grade_install+interest_boxplots.png')\n",
    "\n",
    "\n",
    "fig, (fico, default) = plt.subplots(1, 2, figsize=(16, 6))\n",
    "fico.set_title('Average FICO by Grade')\n",
    "fico = sns.boxplot(x='grade', y='avg_fico_current', data=adf, order=grade_order, ax=fico, showfliers=False, hue='grade',palette=col)\n",
    "fico.set_xlabel('Grade')\n",
    "fico.set_ylabel('Average FICO')\n",
    "fico.legend_.remove()\n",
    "default.set_title('Default Probability by Grade')\n",
    "default = sns.boxplot(x='grade', y='default_proba', data=adf, order=grade_order, ax=default, showfliers=False, hue='grade',palette=col)\n",
    "default.set_xlabel('Grade')\n",
    "default.set_ylabel('Predicted Default Probability')\n",
    "default.legend_.remove()\n",
    "plt.show()\n",
    "plt.savefig('OUTPUT/Plots/grade_fico+default_boxplots.png')"
   ]
  },
  {
   "cell_type": "markdown",
   "metadata": {},
   "source": [
    "## Getting the break-even discounts required for making a profit\n",
    "\n",
    "Args:\n",
    "    df (DataFrame): DataFrame with open loan data\n",
    "    predictions (Series): Predicted probabilities of default\n",
    "    threshold (float): Classification threshold\n",
    "    historical_fn_rate (float): Historical false negative rate (% of predicted paid that default)\n",
    "    recovery_rate (float): Recovery rate for defaulted loans\n",
    "    tolerance (float): Acceptable error margin for break-even point\n",
    "    max_iterations (int): Maximum number of iterations for binary search"
   ]
  },
  {
   "cell_type": "code",
   "execution_count": 161,
   "metadata": {},
   "outputs": [
    {
     "name": "stdout",
     "output_type": "stream",
     "text": [
      "False negative rate: 23.79%\n"
     ]
    },
    {
     "data": {
      "text/plain": [
       "{'A': 0.3113032286910311,\n",
       " 'B': 0.30975229590694653,\n",
       " 'C': 0.307438539190116,\n",
       " 'D': 0.30480477403034456,\n",
       " 'E': 0.30153477319981903,\n",
       " 'F': 0.2980244834907353,\n",
       " 'G': 0.2960948063991964}"
      ]
     },
     "execution_count": 161,
     "metadata": {},
     "output_type": "execute_result"
    }
   ],
   "source": [
    "# Get historical false negative rate (which in this case is 1 - recall)\n",
    "model_report = pd.read_excel(f'OUTPUT/Metrics/model_metrics_{model_size}_{model_date}_{model_version}.xlsx', sheet_name='Classification Report', index_col=0)\n",
    "conf_matrix = pd.read_excel(f'OUTPUT/Metrics/model_metrics_{model_size}_{model_date}_{model_version}.xlsx', sheet_name='Confusion Matrix', index_col=0)\n",
    "\n",
    "recall = model_report['recall']['1']\n",
    "\n",
    "historical_fn_rate = 1 - recall\n",
    "\n",
    "print(f\"False negative rate: {historical_fn_rate:.2%}\")\n",
    "\n",
    "# Get historical recoveries rates\n",
    "with open('DATA/recovery_info.json') as f:\n",
    "    recovery_info = json.load(f)\n",
    "    recovery_info = pd.DataFrame(recovery_info, index=['recovery_rate']).T\n",
    "\n",
    "threshold = 0.5\n",
    "\n",
    "grade_discounts = {}\n",
    "\n",
    "for grade in grade_order:\n",
    "    grade_df = adf[adf['grade'] == grade].copy()\n",
    "    recovery_rate = recovery_info.loc[grade, 'recovery_rate']\n",
    "    grade_discounts[grade] = lp.calculate_break_even_discount(grade_df, grade_df['default_proba'], threshold, historical_fn_rate, recovery_rate, tolerance=0.001, max_iterations=100)\n",
    "\n",
    "grade_discounts\n"
   ]
  },
  {
   "cell_type": "code",
   "execution_count": 171,
   "metadata": {},
   "outputs": [
    {
     "data": {
      "text/html": [
       "<div>\n",
       "<style scoped>\n",
       "    .dataframe tbody tr th:only-of-type {\n",
       "        vertical-align: middle;\n",
       "    }\n",
       "\n",
       "    .dataframe tbody tr th {\n",
       "        vertical-align: top;\n",
       "    }\n",
       "\n",
       "    .dataframe thead th {\n",
       "        text-align: right;\n",
       "    }\n",
       "</style>\n",
       "<table border=\"1\" class=\"dataframe\">\n",
       "  <thead>\n",
       "    <tr style=\"text-align: right;\">\n",
       "      <th></th>\n",
       "      <th>threshold</th>\n",
       "      <th>total_loans</th>\n",
       "      <th>num_loans_selected</th>\n",
       "      <th>pct_loans_selected</th>\n",
       "      <th>expected_true_paid_count</th>\n",
       "      <th>expected_default_count</th>\n",
       "      <th>expected_return_true_paid</th>\n",
       "      <th>expected_return_defaults</th>\n",
       "      <th>total_expected_return</th>\n",
       "      <th>purchase_price</th>\n",
       "      <th>expected_profit</th>\n",
       "      <th>expected_roi</th>\n",
       "    </tr>\n",
       "  </thead>\n",
       "  <tbody>\n",
       "    <tr>\n",
       "      <th>A</th>\n",
       "      <td>0.95</td>\n",
       "      <td>104,471.00</td>\n",
       "      <td>104,351.00</td>\n",
       "      <td>1.00</td>\n",
       "      <td>79,523.32</td>\n",
       "      <td>24,827.68</td>\n",
       "      <td>994,725,895.91</td>\n",
       "      <td>659,879.04</td>\n",
       "      <td>995,385,774.95</td>\n",
       "      <td>958,849,980.61</td>\n",
       "      <td>36,535,794.34</td>\n",
       "      <td>0.04</td>\n",
       "    </tr>\n",
       "    <tr>\n",
       "      <th>B</th>\n",
       "      <td>0.95</td>\n",
       "      <td>126,622.00</td>\n",
       "      <td>125,071.00</td>\n",
       "      <td>0.99</td>\n",
       "      <td>95,313.52</td>\n",
       "      <td>29,757.48</td>\n",
       "      <td>1,348,469,133.74</td>\n",
       "      <td>2,433,627.97</td>\n",
       "      <td>1,350,902,761.71</td>\n",
       "      <td>1,301,317,659.41</td>\n",
       "      <td>49,585,102.29</td>\n",
       "      <td>0.04</td>\n",
       "    </tr>\n",
       "    <tr>\n",
       "      <th>C</th>\n",
       "      <td>0.15</td>\n",
       "      <td>120,662.00</td>\n",
       "      <td>97,839.00</td>\n",
       "      <td>0.81</td>\n",
       "      <td>74,560.69</td>\n",
       "      <td>23,278.31</td>\n",
       "      <td>1,154,465,114.26</td>\n",
       "      <td>4,054,841.78</td>\n",
       "      <td>1,158,519,956.04</td>\n",
       "      <td>1,115,996,295.45</td>\n",
       "      <td>42,523,660.59</td>\n",
       "      <td>0.04</td>\n",
       "    </tr>\n",
       "    <tr>\n",
       "      <th>D</th>\n",
       "      <td>0.55</td>\n",
       "      <td>57,211.00</td>\n",
       "      <td>51,871.00</td>\n",
       "      <td>0.91</td>\n",
       "      <td>39,529.61</td>\n",
       "      <td>12,341.39</td>\n",
       "      <td>668,653,392.06</td>\n",
       "      <td>3,652,959.33</td>\n",
       "      <td>672,306,351.39</td>\n",
       "      <td>647,629,239.06</td>\n",
       "      <td>24,677,112.34</td>\n",
       "      <td>0.04</td>\n",
       "    </tr>\n",
       "    <tr>\n",
       "      <th>E</th>\n",
       "      <td>0.15</td>\n",
       "      <td>17,070.00</td>\n",
       "      <td>13,460.00</td>\n",
       "      <td>0.79</td>\n",
       "      <td>10,257.53</td>\n",
       "      <td>3,202.47</td>\n",
       "      <td>178,255,833.69</td>\n",
       "      <td>1,407,481.05</td>\n",
       "      <td>179,663,314.75</td>\n",
       "      <td>173,068,744.00</td>\n",
       "      <td>6,594,570.75</td>\n",
       "      <td>0.04</td>\n",
       "    </tr>\n",
       "    <tr>\n",
       "      <th>F</th>\n",
       "      <td>0.05</td>\n",
       "      <td>3,563.00</td>\n",
       "      <td>2,244.00</td>\n",
       "      <td>0.63</td>\n",
       "      <td>1,710.10</td>\n",
       "      <td>533.90</td>\n",
       "      <td>38,416,234.13</td>\n",
       "      <td>404,155.48</td>\n",
       "      <td>38,820,389.61</td>\n",
       "      <td>37,395,480.99</td>\n",
       "      <td>1,424,908.62</td>\n",
       "      <td>0.04</td>\n",
       "    </tr>\n",
       "    <tr>\n",
       "      <th>G</th>\n",
       "      <td>0.90</td>\n",
       "      <td>1,034.00</td>\n",
       "      <td>965.00</td>\n",
       "      <td>0.93</td>\n",
       "      <td>735.40</td>\n",
       "      <td>229.60</td>\n",
       "      <td>17,898,333.59</td>\n",
       "      <td>214,226.11</td>\n",
       "      <td>18,112,559.70</td>\n",
       "      <td>17,447,735.29</td>\n",
       "      <td>664,824.41</td>\n",
       "      <td>0.04</td>\n",
       "    </tr>\n",
       "  </tbody>\n",
       "</table>\n",
       "</div>"
      ],
      "text/plain": [
       "  threshold total_loans num_loans_selected pct_loans_selected  \\\n",
       "A      0.95  104,471.00         104,351.00               1.00   \n",
       "B      0.95  126,622.00         125,071.00               0.99   \n",
       "C      0.15  120,662.00          97,839.00               0.81   \n",
       "D      0.55   57,211.00          51,871.00               0.91   \n",
       "E      0.15   17,070.00          13,460.00               0.79   \n",
       "F      0.05    3,563.00           2,244.00               0.63   \n",
       "G      0.90    1,034.00             965.00               0.93   \n",
       "\n",
       "  expected_true_paid_count expected_default_count expected_return_true_paid  \\\n",
       "A                79,523.32              24,827.68            994,725,895.91   \n",
       "B                95,313.52              29,757.48          1,348,469,133.74   \n",
       "C                74,560.69              23,278.31          1,154,465,114.26   \n",
       "D                39,529.61              12,341.39            668,653,392.06   \n",
       "E                10,257.53               3,202.47            178,255,833.69   \n",
       "F                 1,710.10                 533.90             38,416,234.13   \n",
       "G                   735.40                 229.60             17,898,333.59   \n",
       "\n",
       "  expected_return_defaults total_expected_return    purchase_price  \\\n",
       "A               659,879.04        995,385,774.95    958,849,980.61   \n",
       "B             2,433,627.97      1,350,902,761.71  1,301,317,659.41   \n",
       "C             4,054,841.78      1,158,519,956.04  1,115,996,295.45   \n",
       "D             3,652,959.33        672,306,351.39    647,629,239.06   \n",
       "E             1,407,481.05        179,663,314.75    173,068,744.00   \n",
       "F               404,155.48         38,820,389.61     37,395,480.99   \n",
       "G               214,226.11         18,112,559.70     17,447,735.29   \n",
       "\n",
       "  expected_profit expected_roi  \n",
       "A   36,535,794.34         0.04  \n",
       "B   49,585,102.29         0.04  \n",
       "C   42,523,660.59         0.04  \n",
       "D   24,677,112.34         0.04  \n",
       "E    6,594,570.75         0.04  \n",
       "F    1,424,908.62         0.04  \n",
       "G      664,824.41         0.04  "
      ]
     },
     "execution_count": 171,
     "metadata": {},
     "output_type": "execute_result"
    }
   ],
   "source": [
    "imp.reload(lp)\n",
    "roi_margin = 0.05\n",
    "\n",
    "# Set threshold range to test profit\n",
    "thresholds = np.arange(0.0, 1.0, 0.05)\n",
    "\n",
    "# Initialize dictionaries and dataframes to store thresholds\n",
    "grade_thresholds = {}\n",
    "grade_best_results = {}\n",
    "\n",
    "# Calculate profit by grade\n",
    "for grade in grade_order:\n",
    "    grade_df = adf[adf['grade'] == grade].copy()\n",
    "    recovery_rate = recovery_info.loc[grade, 'recovery_rate']\n",
    "    grade_thresholds[grade] = lp.calculate_profit_thresholds(grade_df, grade_df['default_proba'], thresholds, historical_fn_rate, recovery_rate, grade_discounts[grade] + roi_margin)\n",
    "    grade_best_results[grade] = {}\n",
    "    grade_best_results[grade]['threshold'] = lp.get_best_threshold(grade_thresholds[grade], kpi='roi')\n",
    "    grade_best_results[grade] = lp.calculate_expected_profit(grade_df, grade_df['default_proba'], grade_best_results[grade]['threshold'], historical_fn_rate, recovery_rate, grade_discounts[grade] + roi_margin)\n",
    "\n",
    "# Create a dataframe with the best results and reorder columns to make 'threshold' the first column\n",
    "# Convert grade_best_results dictionary to a DataFrame\n",
    "best_results_df = pd.DataFrame.from_dict(grade_best_results, orient='index')\n",
    "\n",
    "# Reorder columns to make 'threshold' the first column\n",
    "best_results_df = best_results_df.map('{:,.2f}'.format)\n",
    "best_results_df\n"
   ]
  }
 ],
 "metadata": {
  "kernelspec": {
   "display_name": "base",
   "language": "python",
   "name": "python3"
  },
  "language_info": {
   "codemirror_mode": {
    "name": "ipython",
    "version": 3
   },
   "file_extension": ".py",
   "mimetype": "text/x-python",
   "name": "python",
   "nbconvert_exporter": "python",
   "pygments_lexer": "ipython3",
   "version": "3.12.3"
  }
 },
 "nbformat": 4,
 "nbformat_minor": 2
}
